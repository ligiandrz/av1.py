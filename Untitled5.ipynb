{
  "nbformat": 4,
  "nbformat_minor": 0,
  "metadata": {
    "colab": {
      "provenance": [],
      "include_colab_link": true
    },
    "kernelspec": {
      "name": "python3",
      "display_name": "Python 3"
    },
    "language_info": {
      "name": "python"
    }
  },
  "cells": [
    {
      "cell_type": "markdown",
      "metadata": {
        "id": "view-in-github",
        "colab_type": "text"
      },
      "source": [
        "<a href=\"https://colab.research.google.com/github/ligiandrz/av1.py/blob/main/Untitled5.ipynb\" target=\"_parent\"><img src=\"https://colab.research.google.com/assets/colab-badge.svg\" alt=\"Open In Colab\"/></a>"
      ]
    },
    {
      "cell_type": "markdown",
      "source": [
        "prova av1"
      ],
      "metadata": {
        "id": "VFDprL8ZLy2b"
      }
    },
    {
      "cell_type": "code",
      "execution_count": null,
      "metadata": {
        "id": "FPdiMRqsKV2v",
        "colab": {
          "base_uri": "https://localhost:8080/"
        },
        "outputId": "a3f40e81-17d9-410a-c7db-a1a73bd9cf2a"
      },
      "outputs": [
        {
          "output_type": "stream",
          "name": "stdout",
          "text": [
            "1:1\n",
            "2:2\n",
            "3:2\n",
            "numeros em ordem crescente: [1, 2, 2]\n"
          ]
        }
      ],
      "source": [
        "#questao 1\n",
        "def ordenar_numeros():\n",
        "  numeros = []\n",
        "  for i in range(3):\n",
        "      num = int(input(f\"{i+1}:\"))\n",
        "      numeros.append(num)\n",
        "  numeros.sort()\n",
        "  print(\"numeros em ordem crescente:\", numeros)\n",
        "ordenar_numeros()"
      ]
    },
    {
      "cell_type": "code",
      "source": [
        "# questao 2\n",
        "def numeros():\n",
        "  for i in range(100):\n",
        "      print(i)\n",
        "numeros()"
      ],
      "metadata": {
        "colab": {
          "base_uri": "https://localhost:8080/"
        },
        "collapsed": true,
        "id": "HTkHgnU9NVJp",
        "outputId": "a0825dd2-a9fd-4520-8005-53435ba80b7c"
      },
      "execution_count": null,
      "outputs": [
        {
          "output_type": "stream",
          "name": "stdout",
          "text": [
            "0\n",
            "1\n",
            "2\n",
            "3\n",
            "4\n",
            "5\n",
            "6\n",
            "7\n",
            "8\n",
            "9\n",
            "10\n",
            "11\n",
            "12\n",
            "13\n",
            "14\n",
            "15\n",
            "16\n",
            "17\n",
            "18\n",
            "19\n",
            "20\n",
            "21\n",
            "22\n",
            "23\n",
            "24\n",
            "25\n",
            "26\n",
            "27\n",
            "28\n",
            "29\n",
            "30\n",
            "31\n",
            "32\n",
            "33\n",
            "34\n",
            "35\n",
            "36\n",
            "37\n",
            "38\n",
            "39\n",
            "40\n",
            "41\n",
            "42\n",
            "43\n",
            "44\n",
            "45\n",
            "46\n",
            "47\n",
            "48\n",
            "49\n",
            "50\n",
            "51\n",
            "52\n",
            "53\n",
            "54\n",
            "55\n",
            "56\n",
            "57\n",
            "58\n",
            "59\n",
            "60\n",
            "61\n",
            "62\n",
            "63\n",
            "64\n",
            "65\n",
            "66\n",
            "67\n",
            "68\n",
            "69\n",
            "70\n",
            "71\n",
            "72\n",
            "73\n",
            "74\n",
            "75\n",
            "76\n",
            "77\n",
            "78\n",
            "79\n",
            "80\n",
            "81\n",
            "82\n",
            "83\n",
            "84\n",
            "85\n",
            "86\n",
            "87\n",
            "88\n",
            "89\n",
            "90\n",
            "91\n",
            "92\n",
            "93\n",
            "94\n",
            "95\n",
            "96\n",
            "97\n",
            "98\n",
            "99\n"
          ]
        }
      ]
    },
    {
      "cell_type": "code",
      "source": [
        "#questao 3\n",
        "nome = input(\"digite seu nome:\")\n",
        "print(f\"Seja muito bem vindo {nome} \")"
      ],
      "metadata": {
        "id": "TrJaUBKfRFCh",
        "outputId": "2f21c875-319e-4e8b-b81b-ce4b9a5b2099",
        "colab": {
          "base_uri": "https://localhost:8080/"
        }
      },
      "execution_count": null,
      "outputs": [
        {
          "output_type": "stream",
          "name": "stdout",
          "text": [
            "digite seu nome:ligia\n",
            "Seja muito bem vindo ligia \n"
          ]
        }
      ]
    },
    {
      "cell_type": "code",
      "source": [
        "# questao 4\n",
        "numero = int(input(\"digite um numero:\"))\n",
        "\n",
        "if numero >= 1:\n",
        "    eh_primo = True\n",
        "    for i in range(2, numero):\n",
        "        if numero % i == 0:\n",
        "            eh_primo = False\n",
        "            break\n",
        "    if eh_primo:\n",
        "        print(numero, \"Número Primo\")\n",
        "    else:\n",
        "        print(numero, \"Numéro não é Primo\")"
      ],
      "metadata": {
        "id": "IhqlV8_FR1dT",
        "outputId": "ed63a531-e159-4814-9500-97097aa9d9a4",
        "colab": {
          "base_uri": "https://localhost:8080/"
        }
      },
      "execution_count": null,
      "outputs": [
        {
          "output_type": "stream",
          "name": "stdout",
          "text": [
            "digite um numero:1\n",
            "1 Número Primo\n"
          ]
        }
      ]
    },
    {
      "cell_type": "code",
      "source": [
        "# questao 5\n",
        "def main():\n",
        " alunos = int(input(\"numero de alunos:\"))\n",
        " notas = [float(input()) for _ in range(alunos)]\n",
        " media = sum(notas) / alunos\n",
        " superior = media * 1.10\n",
        " inferior = media * 0.90\n",
        " acima = 0\n",
        " abaixo = 0\n",
        " for nota in notas:\n",
        "    if nota >= superior:\n",
        "        acima += 1\n",
        "    elif nota <= inferior:\n",
        "        abaixo += 1\n",
        " print(f\"alunos acima da média: {acima}\")\n",
        " print(f\"alunos abaixo da média: {abaixo}\")\n",
        "if __name__ == \"__main__\":\n",
        "    main()"
      ],
      "metadata": {
        "id": "-I4KnntuVP5e",
        "outputId": "ed188425-a7bc-4e42-8bab-856db4754be5",
        "colab": {
          "base_uri": "https://localhost:8080/"
        }
      },
      "execution_count": null,
      "outputs": [
        {
          "output_type": "stream",
          "name": "stdout",
          "text": [
            "numero de alunos:7\n",
            "8\n",
            "9\n",
            "7\n",
            "6\n",
            "8\n",
            "9\n",
            "9\n",
            "alunos acima da média: 3\n",
            "alunos abaixo da média: 2\n"
          ]
        }
      ]
    },
    {
      "cell_type": "code",
      "source": [
        "# questao 6\n",
        "texto = input(\"digite: \")\n",
        "texto_invertido = \"\".join(reversed(texto))\n",
        "print(texto_invertido)"
      ],
      "metadata": {
        "id": "nC8hwVwBW-XO",
        "outputId": "b4013741-9cf2-4e90-c230-4a3d11fe7ebf",
        "colab": {
          "base_uri": "https://localhost:8080/"
        }
      },
      "execution_count": null,
      "outputs": [
        {
          "output_type": "stream",
          "name": "stdout",
          "text": [
            "digite: hello\n",
            "olleh\n"
          ]
        }
      ]
    },
    {
      "cell_type": "code",
      "source": [
        "# questao 7\n",
        "string = input(\"primeira linha: \")\n",
        "caract1 = input(\"segunda linha:\")\n",
        "caract2 = input(\"terceira linha:\")\n",
        "if len(caract1) == 1 and len(caract2) == 1:\n",
        "    resultado = string.replace(caract1, caract2)\n",
        "    print(\"resultado:\" , resultado)\n",
        "else:\n",
        "    print(\"erro\")"
      ],
      "metadata": {
        "id": "jKRa0yGMYClm",
        "outputId": "f4e704d9-e6db-4eba-d5c0-9705e7790119",
        "colab": {
          "base_uri": "https://localhost:8080/"
        }
      },
      "execution_count": null,
      "outputs": [
        {
          "output_type": "stream",
          "name": "stdout",
          "text": [
            "primeira linha: maracatu\n",
            "segunda linha:a\n",
            "terceira linha:o\n",
            "resultado: morocotu\n"
          ]
        }
      ]
    },
    {
      "cell_type": "code",
      "source": [
        "# questao 8\n",
        "string = input(\"string:\")\n",
        "caract = input(\"caracter:\")\n",
        "if len(caract) == 1:\n",
        "  ocorrencia = string.find(caract)\n",
        "  print(\"o indice é:\", ocorrencia)"
      ],
      "metadata": {
        "id": "0iskir_Uamth",
        "outputId": "bba2d823-5598-4498-a0ab-2e195d490656",
        "colab": {
          "base_uri": "https://localhost:8080/"
        }
      },
      "execution_count": null,
      "outputs": [
        {
          "output_type": "stream",
          "name": "stdout",
          "text": [
            "string:passa\n",
            "caracter:s\n",
            "o indice é: 2\n"
          ]
        }
      ]
    },
    {
      "cell_type": "code",
      "source": [
        "# questao 9\n",
        "x = int(input(\"insira o valor 1:\"))\n",
        "y = int(input(\"insira o avalor 2:\"))\n",
        "print(\"valores entre\", x, \"e\", y, \"em que o resto da divisao por 5 ou é 2 ou 3;\")\n",
        "for i in range(x, y+1):\n",
        "  if i % 5 == 2 or i % 5 == 3:\n",
        "    print(i)"
      ],
      "metadata": {
        "id": "bY76wAqIasG_",
        "outputId": "7cc8f58c-7fd2-47c2-f10a-8779b0df999f",
        "colab": {
          "base_uri": "https://localhost:8080/"
        }
      },
      "execution_count": null,
      "outputs": [
        {
          "output_type": "stream",
          "name": "stdout",
          "text": [
            "insira o valor 1:10\n",
            "insira o avalor 2:15\n",
            "valores entre 10 e 15 em que o resto da divisao por 5 ou é 2 ou 3;\n",
            "12\n",
            "13\n"
          ]
        }
      ]
    },
    {
      "cell_type": "code",
      "source": [
        "# questao 10\n",
        "#a\n",
        "n = int(input(\" quantidade de numeros que voce deseja inserir: \"))\n",
        "numeros = []\n",
        "\n",
        "for _ in range(n):\n",
        "    num = int(input(\"insira os numeros: \"))\n",
        "    numeros.append(num)\n",
        "numeros.reverse()\n",
        "print(\"numeros em ordem inversa:\", numeros)"
      ],
      "metadata": {
        "id": "f6ejEV2Qar5X",
        "outputId": "a29a6291-cc04-4d1e-ee2f-41f1ff44a74b",
        "colab": {
          "base_uri": "https://localhost:8080/"
        }
      },
      "execution_count": null,
      "outputs": [
        {
          "output_type": "stream",
          "name": "stdout",
          "text": [
            "numeros que voce deseja insirir: 2\n",
            "insira os numeros: 3\n",
            "insira os numeros: 4\n",
            "numeros em ordem inversa: [4, 3]\n"
          ]
        }
      ]
    },
    {
      "cell_type": "code",
      "source": [
        "#questao 10\n",
        "#b\n",
        "n = int(input(\" quantidade de numeros que voce deseja inserir:\"))\n",
        "numeros = []\n",
        "for _ in range(n):\n",
        "    num = int(input(\"insira um numero: \"))\n",
        "    numeros.append(num)\n",
        "numeros.sort(reverse=True)\n",
        "print(\"numeros em ordem decrecente:\", numeros)"
      ],
      "metadata": {
        "id": "3rWfPGgrs43R",
        "outputId": "5806ea90-b3e1-4e3c-fc66-9ccf215075e0",
        "colab": {
          "base_uri": "https://localhost:8080/"
        }
      },
      "execution_count": null,
      "outputs": [
        {
          "output_type": "stream",
          "name": "stdout",
          "text": [
            " quantidade de numeros que voce deseja insirir:2\n",
            "insira um numero: 4\n",
            "insira um numero: 3\n",
            "numeros em ordem decrecente: [4, 3]\n"
          ]
        }
      ]
    }
  ]
}