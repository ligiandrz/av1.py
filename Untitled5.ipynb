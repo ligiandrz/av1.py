{
  "nbformat": 4,
  "nbformat_minor": 0,
  "metadata": {
    "colab": {
      "provenance": [],
      "include_colab_link": true
    },
    "kernelspec": {
      "name": "python3",
      "display_name": "Python 3"
    },
    "language_info": {
      "name": "python"
    }
  },
  "cells": [
    {
      "cell_type": "markdown",
      "metadata": {
        "id": "view-in-github",
        "colab_type": "text"
      },
      "source": [
        "<a href=\"https://colab.research.google.com/github/ligiandrz/av1.py/blob/main/Untitled5.ipynb\" target=\"_parent\"><img src=\"https://colab.research.google.com/assets/colab-badge.svg\" alt=\"Open In Colab\"/></a>"
      ]
    },
    {
      "cell_type": "markdown",
      "source": [
        "prova av1"
      ],
      "metadata": {
        "id": "VFDprL8ZLy2b"
      }
    },
    {
      "cell_type": "code",
      "execution_count": 3,
      "metadata": {
        "id": "FPdiMRqsKV2v",
        "colab": {
          "base_uri": "https://localhost:8080/"
        },
        "outputId": "a3f40e81-17d9-410a-c7db-a1a73bd9cf2a"
      },
      "outputs": [
        {
          "output_type": "stream",
          "name": "stdout",
          "text": [
            "1:1\n",
            "2:2\n",
            "3:2\n",
            "numeros em ordem crescente: [1, 2, 2]\n"
          ]
        }
      ],
      "source": [
        "#questao 1\n",
        "def ordenar_numeros():\n",
        "  numeros = []\n",
        "  for i in range(3):\n",
        "      num = int(input(f\"{i+1}:\"))\n",
        "      numeros.append(num)\n",
        "  numeros.sort()\n",
        "  print(\"numeros em ordem crescente:\", numeros)\n",
        "ordenar_numeros()"
      ]
    },
    {
      "cell_type": "code",
      "source": [
        "# questao 2\n",
        "def numeros():\n",
        "  for i in range(100):\n",
        "      print(i)\n",
        "numeros()"
      ],
      "metadata": {
        "colab": {
          "base_uri": "https://localhost:8080/"
        },
        "collapsed": true,
        "id": "HTkHgnU9NVJp",
        "outputId": "a0825dd2-a9fd-4520-8005-53435ba80b7c"
      },
      "execution_count": 11,
      "outputs": [
        {
          "output_type": "stream",
          "name": "stdout",
          "text": [
            "0\n",
            "1\n",
            "2\n",
            "3\n",
            "4\n",
            "5\n",
            "6\n",
            "7\n",
            "8\n",
            "9\n",
            "10\n",
            "11\n",
            "12\n",
            "13\n",
            "14\n",
            "15\n",
            "16\n",
            "17\n",
            "18\n",
            "19\n",
            "20\n",
            "21\n",
            "22\n",
            "23\n",
            "24\n",
            "25\n",
            "26\n",
            "27\n",
            "28\n",
            "29\n",
            "30\n",
            "31\n",
            "32\n",
            "33\n",
            "34\n",
            "35\n",
            "36\n",
            "37\n",
            "38\n",
            "39\n",
            "40\n",
            "41\n",
            "42\n",
            "43\n",
            "44\n",
            "45\n",
            "46\n",
            "47\n",
            "48\n",
            "49\n",
            "50\n",
            "51\n",
            "52\n",
            "53\n",
            "54\n",
            "55\n",
            "56\n",
            "57\n",
            "58\n",
            "59\n",
            "60\n",
            "61\n",
            "62\n",
            "63\n",
            "64\n",
            "65\n",
            "66\n",
            "67\n",
            "68\n",
            "69\n",
            "70\n",
            "71\n",
            "72\n",
            "73\n",
            "74\n",
            "75\n",
            "76\n",
            "77\n",
            "78\n",
            "79\n",
            "80\n",
            "81\n",
            "82\n",
            "83\n",
            "84\n",
            "85\n",
            "86\n",
            "87\n",
            "88\n",
            "89\n",
            "90\n",
            "91\n",
            "92\n",
            "93\n",
            "94\n",
            "95\n",
            "96\n",
            "97\n",
            "98\n",
            "99\n"
          ]
        }
      ]
    },
    {
      "cell_type": "code",
      "source": [
        "#questao 3\n",
        "nome = input(\"digite seu nome:\")\n",
        "print(f\"Seja muito bem vindo {nome} \")"
      ],
      "metadata": {
        "id": "TrJaUBKfRFCh",
        "outputId": "2f21c875-319e-4e8b-b81b-ce4b9a5b2099",
        "colab": {
          "base_uri": "https://localhost:8080/"
        }
      },
      "execution_count": 12,
      "outputs": [
        {
          "output_type": "stream",
          "name": "stdout",
          "text": [
            "digite seu nome:ligia\n",
            "Seja muito bem vindo ligia \n"
          ]
        }
      ]
    },
    {
      "cell_type": "code",
      "source": [
        "# questao 4\n",
        "numero = int(input(\"digite um numero:\"))\n",
        "\n",
        "if numero >= 1:\n",
        "    eh_primo = True\n",
        "    for i in range(2, numero):\n",
        "        if numero % i == 0:\n",
        "            eh_primo = False\n",
        "            break\n",
        "    if eh_primo:\n",
        "        print(numero, \"Número Primo\")\n",
        "    else:\n",
        "        print(numero, \"Numéro não é Primo\")"
      ],
      "metadata": {
        "id": "IhqlV8_FR1dT",
        "outputId": "0ef365e9-099a-4e47-e9ef-28c136bf7e71",
        "colab": {
          "base_uri": "https://localhost:8080/"
        }
      },
      "execution_count": 22,
      "outputs": [
        {
          "output_type": "stream",
          "name": "stdout",
          "text": [
            "digite um numero:33\n",
            "33 não é primo\n"
          ]
        }
      ]
    },
    {
      "cell_type": "code",
      "source": [
        "# questao 5\n"
      ],
      "metadata": {
        "id": "-I4KnntuVP5e"
      },
      "execution_count": null,
      "outputs": []
    },
    {
      "cell_type": "code",
      "source": [
        "# questao 6\n",
        "texto = input(\"digite: \")\n",
        "texto_invertido = \"\".join(reversed(texto))\n",
        "print(texto_invertido)"
      ],
      "metadata": {
        "id": "nC8hwVwBW-XO",
        "outputId": "c7f907d1-2d96-411d-84ba-8d8e84e74761",
        "colab": {
          "base_uri": "https://localhost:8080/"
        }
      },
      "execution_count": 24,
      "outputs": [
        {
          "output_type": "stream",
          "name": "stdout",
          "text": [
            "digite: hello\n",
            "olleh\n"
          ]
        }
      ]
    },
    {
      "cell_type": "code",
      "source": [
        "# questao 7\n"
      ],
      "metadata": {
        "id": "jKRa0yGMYClm"
      },
      "execution_count": null,
      "outputs": []
    }
  ]
}