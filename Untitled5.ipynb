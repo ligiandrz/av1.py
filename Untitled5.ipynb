{
  "nbformat": 4,
  "nbformat_minor": 0,
  "metadata": {
    "colab": {
      "provenance": [],
      "include_colab_link": true
    },
    "kernelspec": {
      "name": "python3",
      "display_name": "Python 3"
    },
    "language_info": {
      "name": "python"
    }
  },
  "cells": [
    {
      "cell_type": "markdown",
      "metadata": {
        "id": "view-in-github",
        "colab_type": "text"
      },
      "source": [
        "<a href=\"https://colab.research.google.com/github/ligiandrz/av1.py/blob/main/Untitled5.ipynb\" target=\"_parent\"><img src=\"https://colab.research.google.com/assets/colab-badge.svg\" alt=\"Open In Colab\"/></a>"
      ]
    },
    {
      "cell_type": "markdown",
      "source": [
        "prova av1"
      ],
      "metadata": {
        "id": "VFDprL8ZLy2b"
      }
    },
    {
      "cell_type": "code",
      "execution_count": 3,
      "metadata": {
        "id": "FPdiMRqsKV2v",
        "colab": {
          "base_uri": "https://localhost:8080/"
        },
        "outputId": "a3f40e81-17d9-410a-c7db-a1a73bd9cf2a"
      },
      "outputs": [
        {
          "output_type": "stream",
          "name": "stdout",
          "text": [
            "1:1\n",
            "2:2\n",
            "3:2\n",
            "numeros em ordem crescente: [1, 2, 2]\n"
          ]
        }
      ],
      "source": [
        "#questao 1\n",
        "def ordenar_numeros():\n",
        "  numeros = []\n",
        "  for i in range(3):\n",
        "      num = int(input(F\"{i+1}:\"))\n",
        "      numeros.append(num)\n",
        "  numeros.sort()\n",
        "  print(\"numeros em ordem crescente:\", numeros)\n",
        "ordenar_numeros()"
      ]
    },
    {
      "cell_type": "code",
      "source": [
        "# questao 2"
      ],
      "metadata": {
        "id": "HTkHgnU9NVJp"
      },
      "execution_count": null,
      "outputs": []
    }
  ]
}